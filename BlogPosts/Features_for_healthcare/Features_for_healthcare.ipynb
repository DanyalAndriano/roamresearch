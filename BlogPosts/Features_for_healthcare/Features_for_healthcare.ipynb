{
 "cells": [
  {
   "cell_type": "markdown",
   "metadata": {},
   "source": [
    "# New paper: Effective feature representation for clinical text concept extraction"
   ]
  },
  {
   "cell_type": "code",
   "execution_count": 1,
   "metadata": {},
   "outputs": [],
   "source": [
    "__author__ = 'Chris Potts'"
   ]
  },
  {
   "cell_type": "markdown",
   "metadata": {},
   "source": [
    "__TL;DR__ We [posted a new paper to arXiv](https://arxiv.org/abs/1811.00070), based on the work [Yifeng Tau](http://www.cs.cmu.edu/~yifengt/) did with us during his summer internship. The paper motivates a novel deep learning architecture for combining dense feature representations derived from unlabeled text with sparse feature representations derived from medical ontologies. The paper shows that the architecture is effective for the kinds of small, complex datasets that are typical of NLP in healthcare."
   ]
  },
  {
   "cell_type": "markdown",
   "metadata": {},
   "source": [
    "How can we make the best use of small text datasets? \n",
    "\n",
    "This question is always on our minds at Roam. Our NLP use-cases tend to be complex and specialized, which means that we have to call on our clinical annotation team to label new examples. The fewer examples they have to label, the more effective Roam can be.\n",
    "\n",
    "There are many aspects to this problem, including creating efficient tools and workflows for the clinical annotation team, developing robust infrastructure for model optimization, and identifying model architectures that are especially well-suited to our datasets.\n",
    "\n",
    "Our newest research paper, a Roam/Stanford/CMU collaboration, is devoted to this model architecture question:\n",
    "\n",
    "> [Effective feature representation for clinical text concept extraction](https://arxiv.org/abs/1811.00070)<br />\n",
    "> Yifeng Tao, Bruno Godefroy, Guillaume Genthial, and Christopher Potts\n",
    "\n",
    "This paper is the result of work [Yifeng Tau](http://www.cs.cmu.edu/~yifengt/) (CMU) did during his 2018 summer internship at Roam, in collaboration with Bruno, Guillaume, and me.\n",
    "\n",
    "The guiding hypothesis of the paper is that there is useful information in the sort of dense unsupervised word representations that can be learned from unlabeled text (we use [ELMo](https://allennlp.org/elmo)) _and_ in the sparse feature representations that can be easily be derived from the many publicly available medical ontologies out there.\n",
    "\n",
    "Finding a model that can make good use of these very different kinds of information is a challenge. We propose a model that is a combination on a [recurrent neural network](https://en.wikipedia.org/wiki/Recurrent_neural_network) and a [conditional random fields (CRF) model](https://en.wikipedia.org/wiki/Conditional_random_field), with some special additional representational layers designed to synthesize the two kinds of feature representation.\n",
    "\n",
    "We show that this model yields superior performance on a number of very different sequence labeling datasets: two clinical datasets that Roam developed, a dataset of tweets about adverse drug reactions, a dataset of scientific abstracts, and a new dataset of drug–disease relationships that we developed and are releasing with the paper:\n",
    "\n",
    "> [Drug–Disease Relationships Dataset](https://github.com/roamanalytics/roamresearch/tree/master/BlogPosts/Features_for_healthcare)\n",
    "\n",
    "The paper also includes a number of analyses aimed at identifying how the model makes use of the dense and sparse features it contains. These analyses show clearly that the model learns to pay more attention to the most reliable features, where this notion of reliability depends on a number of factors, including text length and problem type. \n",
    "\n",
    "The analyses also show that the combined model can get traction on very small categories. This is an especially welcome outcome, since the small categories in healthcare are often those that correspond to rare but vitally important events."
   ]
  }
 ],
 "metadata": {
  "kernelspec": {
   "display_name": "Python 3",
   "language": "python",
   "name": "python3"
  },
  "language_info": {
   "codemirror_mode": {
    "name": "ipython",
    "version": 3
   },
   "file_extension": ".py",
   "mimetype": "text/x-python",
   "name": "python",
   "nbconvert_exporter": "python",
   "pygments_lexer": "ipython3",
   "version": "3.6.4"
  }
 },
 "nbformat": 4,
 "nbformat_minor": 1
}
